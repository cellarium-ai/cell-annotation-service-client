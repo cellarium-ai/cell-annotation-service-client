{
 "cells": [
  {
   "cell_type": "markdown",
   "metadata": {},
   "source": [
    "## Cellarium Cell Annotation Service (CAS) Quickstart Tutorial\n",
    "\n",
    "<img src=\"https://cellarium.ai/wp-content/uploads/2024/07/cellarium-logo-medium.png\" alt=\"drawing\" width=\"96\"/>\n",
    "\n",
    "This Jupyter Notebook is a quickstart tutorial for using Cellarium CAS.\n",
    "\n",
    "> **Note:**\n",
    "> - Please populate your API token at the appropriate cell. This Notebook will not work without a valid API token.\n",
    "> - The accuracy of Cellarium CAS is note formally benchmarked yet. We generally expect accurate results on tissues and cell types that are well-represented (and well-annotated) in CZI CELLxGENE data repository (approximately 86M cells)."
   ]
  },
  {
   "cell_type": "markdown",
   "metadata": {},
   "source": [
    "### Load an AnnData file"
   ]
  },
  {
   "cell_type": "code",
   "execution_count": null,
   "metadata": {},
   "outputs": [],
   "source": [
    "import scanpy as sc\n",
    "import warnings\n",
    "\n",
    "# suppressing some of the informational warnings\n",
    "warnings.filterwarnings(\"ignore\", category=FutureWarning)\n",
    "warnings.filterwarnings(\"ignore\", category=UserWarning)\n",
    "\n",
    "# set default figure resolution and size\n",
    "sc.set_figure_params(dpi=80)"
   ]
  },
  {
   "cell_type": "code",
   "execution_count": null,
   "metadata": {},
   "outputs": [],
   "source": [
    "# Peripheral blood mononuclear cells (10x Genomics) [4,000 cells]\n",
    "adata = sc.read('./resources/pbmc_10x_v3_4k.h5ad')"
   ]
  },
  {
   "cell_type": "code",
   "execution_count": null,
   "metadata": {},
   "outputs": [],
   "source": [
    "# primary visual cortex, human (V1) (Lein et al., 2023) [20,000 nuclei]\n",
    "adata = sc.read('./resources/lein_2023_V1_cortex_10x_v3_20k.h5ad')"
   ]
  },
  {
   "cell_type": "code",
   "execution_count": null,
   "metadata": {},
   "outputs": [],
   "source": [
    "adata"
   ]
  },
  {
   "cell_type": "code",
   "execution_count": null,
   "metadata": {},
   "outputs": [],
   "source": [
    "adata.obs"
   ]
  },
  {
   "cell_type": "code",
   "execution_count": null,
   "metadata": {},
   "outputs": [],
   "source": [
    "sc.pl.umap(adata)"
   ]
  },
  {
   "cell_type": "code",
   "execution_count": null,
   "metadata": {},
   "outputs": [],
   "source": [
    "sc.pl.umap(adata, color='cluster_label')"
   ]
  },
  {
   "cell_type": "markdown",
   "metadata": {},
   "source": [
    "### Submit AnnData to Cellarium CAS"
   ]
  },
  {
   "cell_type": "code",
   "execution_count": null,
   "metadata": {},
   "outputs": [],
   "source": [
    "from cellarium.cas.client import CASClient\n",
    "\n",
    "api_token = \"7c888f09-d653-472b-b874-d263856875b2.eaec8dc3-8a80-46d8-8d72-59f5cdd8ad9a\"\n",
    "\n",
    "cas = CASClient(api_token=api_token, api_url=\"https://cellarium-june-release-cas-api-vi7nxpvk7a-uc.a.run.app\")"
   ]
  },
  {
   "cell_type": "code",
   "execution_count": null,
   "metadata": {},
   "outputs": [],
   "source": [
    "# select the annotation embedding model\n",
    "cas_model_name = 'jrb_pca_512_all_genes_log1p_zscore'\n",
    "\n",
    "# ontology-aware cell type query\n",
    "cas_ontology_aware_response = cas.annotate_matrix_cell_type_ontology_aware_strategy(\n",
    "    matrix=adata,\n",
    "    chunk_size=500,\n",
    "    feature_ids_column_name='gene_ids',\n",
    "    feature_names_column_name='index',\n",
    "    cas_model_name=cas_model_name)"
   ]
  },
  {
   "cell_type": "markdown",
   "metadata": {},
   "source": [
    "### Explore Cellarium CAS response"
   ]
  },
  {
   "cell_type": "markdown",
   "metadata": {},
   "source": [
    "To skip submitting data to CAS API and save time, you can load the precomputed results from the CAS API for **pbmc_10k_v3_4k** dataset by running the following cell:"
   ]
  },
  {
   "cell_type": "code",
   "execution_count": null,
   "metadata": {
    "jupyter": {
     "source_hidden": true
    }
   },
   "outputs": [],
   "source": [
    "import pickle\n",
    "\n",
    "with open(\"./resources/pbmc_10x_v3_4k__cas_ontology_aware_response.pkl\", \"rb\") as f:\n",
    "    loader = pickle.Unpickler(f)\n",
    "    cas_ontology_aware_response = loader.load()"
   ]
  },
  {
   "cell_type": "markdown",
   "metadata": {},
   "source": [
    "To skip submitting data to CAS API and save time, you can load the precomputed results from the CAS API for **lein_2023_V1_cortex_10x_v3_20k** dataset by running the following cell:"
   ]
  },
  {
   "cell_type": "code",
   "execution_count": null,
   "metadata": {
    "jupyter": {
     "source_hidden": true
    }
   },
   "outputs": [],
   "source": [
    "import pickle\n",
    "\n",
    "with open(\"./resources/lein_2023_V1_cortex_10x_v3_20k__cas_ontology_aware_response.pkl\", \"rb\") as f:\n",
    "    loader = pickle.Unpickler(f)\n",
    "    cas_ontology_aware_response = loader.load()"
   ]
  },
  {
   "cell_type": "code",
   "execution_count": null,
   "metadata": {},
   "outputs": [],
   "source": [
    "from cellarium.cas._io import suppress_stderr\n",
    "from cellarium.cas.visualization import CASCircularTreePlotUMAPDashApp\n",
    "\n",
    "DASH_SERVER_PORT = 8050\n",
    "\n",
    "with suppress_stderr():\n",
    "    CASCircularTreePlotUMAPDashApp(\n",
    "        adata,\n",
    "        cas_ontology_aware_response,\n",
    "        umap_marker_size=3,\n",
    "        hidden_cl_names_set={\"CL_0000117\", \"CL_0000099\", \"CL_0000402\"},\n",
    "        cluster_label_obs_column=\"cluster_label\",\n",
    "    ).run(port=DASH_SERVER_PORT, debug=False, jupyter_width=\"80%\")"
   ]
  },
  {
   "cell_type": "markdown",
   "metadata": {},
   "source": [
    "### Best cell type label assignment"
   ]
  },
  {
   "cell_type": "code",
   "execution_count": null,
   "metadata": {},
   "outputs": [],
   "source": [
    "import cellarium.cas.postprocessing.ontology_aware as pp\n",
    "from cellarium.cas.postprocessing.cell_ontology import CellOntologyCache\n",
    "\n",
    "with suppress_stderr():\n",
    "    cl = CellOntologyCache()"
   ]
  },
  {
   "cell_type": "markdown",
   "metadata": {},
   "source": [
    "#### Assing cell type calls to individual cells"
   ]
  },
  {
   "cell_type": "code",
   "execution_count": null,
   "metadata": {},
   "outputs": [],
   "source": [
    "pp.compute_most_granular_top_k_calls_single(\n",
    "    adata=adata,\n",
    "    cl=cl,\n",
    "    min_acceptable_score=0.1)"
   ]
  },
  {
   "cell_type": "code",
   "execution_count": null,
   "metadata": {},
   "outputs": [],
   "source": [
    "sc.pl.umap(adata, color='cas_cell_type_label_1')\n",
    "sc.pl.umap(adata, color='cas_cell_type_label_2')\n",
    "sc.pl.umap(adata, color='cas_cell_type_label_2')"
   ]
  },
  {
   "cell_type": "markdown",
   "metadata": {},
   "source": [
    "#### Assign cell type calls to predefined cell clusters"
   ]
  },
  {
   "cell_type": "code",
   "execution_count": null,
   "metadata": {},
   "outputs": [],
   "source": [
    "pp.compute_most_granular_top_k_calls_cluster(\n",
    "    adata=adata,\n",
    "    cl=cl,\n",
    "    min_acceptable_score=0.1,\n",
    "    cluster_label_obs_column='cluster_label',\n",
    "    obs_prefix='cas_cell_type_cluster')"
   ]
  },
  {
   "cell_type": "code",
   "execution_count": null,
   "metadata": {},
   "outputs": [],
   "source": [
    "sc.pl.umap(adata, color='cas_cell_type_cluster_label_1')\n",
    "sc.pl.umap(adata, color='cas_cell_type_cluster_label_2')\n",
    "sc.pl.umap(adata, color='cas_cell_type_cluster_label_3')"
   ]
  },
  {
   "cell_type": "code",
   "execution_count": null,
   "metadata": {},
   "outputs": [],
   "source": []
  }
 ],
 "metadata": {
  "kernelspec": {
   "display_name": "Python 3 (ipykernel)",
   "language": "python",
   "name": "python3"
  },
  "language_info": {
   "codemirror_mode": {
    "name": "ipython",
    "version": 3
   },
   "file_extension": ".py",
   "mimetype": "text/x-python",
   "name": "python",
   "nbconvert_exporter": "python",
   "pygments_lexer": "ipython3",
   "version": "3.10.13"
  }
 },
 "nbformat": 4,
 "nbformat_minor": 4
}
