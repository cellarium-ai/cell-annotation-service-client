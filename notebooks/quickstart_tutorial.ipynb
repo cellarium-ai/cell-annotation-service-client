{
  "cells": [
    {
      "cell_type": "markdown",
      "metadata": {
        "id": "ZVBHv_hQIYhR"
      },
      "source": [
        "## Cellarium Cell Annotation Service (CAS) Quickstart Tutorial\n",
        "\n",
        "<img src=\"https://cellarium.ai/wp-content/uploads/2024/07/cellarium-logo-medium.png\" alt=\"drawing\" width=\"96\"/>\n",
        "\n",
        "_(Last Modified: 11/1/2024)_\n",
        "\n",
        "This Notebook is a short tutorial on using Cellarium CAS. Please read the instructions and run each cell in the presented order. Once you have finished going through the tutorial, please feel free to go back and modify it as needed for annotating your own datasets.\n",
        "\n",
        "> **Note:**\n",
        "> If you are running this Notebook inside Google Colab, please note that you will not be able to save your changes. If you wish to save your changes, please make a personal copy of this Notebook by navigating to `File` -> `Save a copy in Drive`."
      ]
    },
    {
      "cell_type": "markdown",
      "metadata": {
        "id": "Khfgwkc0IYhT"
      },
      "source": [
        "### Installing Cellarium CAS client library\n",
        "\n",
        "As a first step, we need to install Cellarium CAS client library, ``cellarium-cas``, along with all dependencies needed for visualizations. To this end, run the next cell.\n",
        "\n",
        "> **Note:**\n",
        "> If you have already installed ``cellarium-cas`` without the visualization dependencies, you should still run the next cell.\n",
        "\n",
        "> **Note:**\n",
        "> If you are running this Notebook inside Google Colab, you may be prompted to restart your session after running the next cell. Please continue with `Restart session`. You do not need to run the next cell again and you can now proceed to to the next section (\"Load the AnnData file\")."
      ]
    },
    {
      "cell_type": "code",
      "execution_count": null,
      "metadata": {
        "id": "jsU-CeHyIYhU"
      },
      "outputs": [],
      "source": [
        "!pip install --no-cache-dir cellarium-cas[vis]"
      ]
    },
    {
      "cell_type": "markdown",
      "metadata": {
        "id": "GuLtrG92IYhU"
      },
      "source": [
        "### Load the AnnData file\n",
        "\n",
        "In this tutorial, we will annotate a peripheral blood mononuclear cell (PBMC) scRNA-seq dataset from 10x Genomics.\n",
        "\n",
        ">**Note:** The original dataset, _\"10k PBMCs from a Healthy Donor (v3 chemistry)\"_, can be found [here](https://www.10xgenomics.com/datasets/10-k-pbm-cs-from-a-healthy-donor-v-3-chemistry-3-standard-3-0-0).\n",
        "\n",
        "For the purpose of this tutorial, we have selected 4,000 cells selected at random from the full dataset. We have additionally precomputed UMAP embeddings of these cells using a standard scanpy workflow and performed unsupervised Leiden clustering.\n",
        "\n",
        ">**Note:** For a quick tutorial on scRNA-seq data quality control, preprocessing, embedding, and clustering using scanpy, we recommend this [tutorial](https://scanpy.readthedocs.io/en/stable/tutorials/basics/clustering-2017.html).\n",
        "\n",
        ">**Note:** We emphasize that CAS requires raw integer mRNA counts. If you are adapting this tutorial to your own dataset and your data is already normalized and/or restricted to a small gene set (e.g. highly variable genes), it is not suitable for CAS. If you have the raw counts in an AnnData layer or stored in the ``.raw`` attribute, please make sure that the ``.X`` attribute of your AnnData file is populated with the raw counts."
      ]
    },
    {
      "cell_type": "code",
      "execution_count": null,
      "metadata": {
        "id": "YhQfFuktIYhV"
      },
      "outputs": [],
      "source": [
        "import scanpy as sc\n",
        "import warnings\n",
        "\n",
        "# suppressing some of the informational warnings\n",
        "warnings.filterwarnings(\"ignore\", category=FutureWarning)\n",
        "warnings.filterwarnings(\"ignore\", category=UserWarning)\n",
        "\n",
        "# set default figure resolution and size\n",
        "sc.set_figure_params(dpi=80)"
      ]
    },
    {
      "cell_type": "code",
      "execution_count": null,
      "metadata": {
        "id": "W12rc_lzIYhV"
      },
      "outputs": [],
      "source": [
        "# Download the sample AnnData file\n",
        "!curl -O https://storage.googleapis.com/cellarium-file-system-public/cellarium-cas-tutorial/pbmc_10x_v3_4k.h5ad"
      ]
    },
    {
      "cell_type": "code",
      "execution_count": null,
      "metadata": {
        "id": "PR51gp6NIYhW"
      },
      "outputs": [],
      "source": [
        "# Read the sample AnnData object\n",
        "adata = sc.read('pbmc_10x_v3_4k.h5ad')"
      ]
    },
    {
      "cell_type": "markdown",
      "metadata": {
        "id": "yejP7AJVIYhW"
      },
      "source": [
        "Let us inspect the loaded AnnData file:"
      ]
    },
    {
      "cell_type": "code",
      "execution_count": null,
      "metadata": {
        "id": "QAtAnyPwIYhW"
      },
      "outputs": [],
      "source": [
        "adata"
      ]
    },
    {
      "cell_type": "markdown",
      "metadata": {
        "id": "Xjdkbh7-IYhX"
      },
      "source": [
        "The AnnData file contains 4000 (cells) x 33538 (genes), a ``cluster_label`` attribute (under ``.obs``), and PCA and UMAP embeddings (under ``.obsm``)."
      ]
    },
    {
      "cell_type": "code",
      "execution_count": null,
      "metadata": {
        "id": "xZtS6xsTIYhX"
      },
      "outputs": [],
      "source": [
        "adata.obs"
      ]
    },
    {
      "cell_type": "markdown",
      "metadata": {
        "id": "XcTt65i_IYhX"
      },
      "source": [
        "Let us inspect the UMAP embedding already available in the AnnData file:"
      ]
    },
    {
      "cell_type": "code",
      "execution_count": null,
      "metadata": {
        "id": "suOL7R93IYhX"
      },
      "outputs": [],
      "source": [
        "sc.pl.umap(adata)"
      ]
    },
    {
      "cell_type": "markdown",
      "metadata": {
        "id": "wIo2jMOoIYhX"
      },
      "source": [
        "Also, let us inspect the unsupervised Leiden clustering of the PCA embeddings for a sanity check:"
      ]
    },
    {
      "cell_type": "code",
      "execution_count": null,
      "metadata": {
        "id": "n1EkkBJaIYhX"
      },
      "outputs": [],
      "source": [
        "sc.pl.umap(adata, color='cluster_label')"
      ]
    },
    {
      "cell_type": "markdown",
      "metadata": {
        "id": "JJeb6HJyIYhY"
      },
      "source": [
        ">**Note:** The UMAP embeddings and unsupervised clustering of the data are both **optional** and are not needed by CAS. However, these attributes are **required** for visualizing and inspecting the CAS output using our visualization tools."
      ]
    },
    {
      "cell_type": "markdown",
      "metadata": {
        "id": "ZiY5EBzIIYhY"
      },
      "source": [
        "Finally, let us inspect the ``.var`` attribute of the loaded AnnData file:"
      ]
    },
    {
      "cell_type": "code",
      "execution_count": null,
      "metadata": {
        "id": "L0QG3LypIYhY"
      },
      "outputs": [],
      "source": [
        "adata.var"
      ]
    },
    {
      "cell_type": "markdown",
      "metadata": {
        "id": "4lvG0RiQIYhY"
      },
      "source": [
        "We notice that Gene Symbols (names) serve as the index of the ``.var`` DataFrame, and Ensembl Gene IDs are provided under ``gene_ids`` column. We take note of both for the next steps.\n",
        "\n",
        ">**Note:** CAS requires both Gene Symbols and Ensembl Gene IDs. If you do not have either available in your AnnData file, please update your AnnData file before proceeding to the next steps. We recommend using [BioMart](http://www.ensembl.org/info/data/biomart/index.html) for converting Gene Symbols to Ensembl Gene IDs or vice versa."
      ]
    },
    {
      "cell_type": "markdown",
      "metadata": {
        "id": "YprL7NvQIYhY"
      },
      "source": [
        "### Submit the loaded AnnData file to Cellarium CAS for annotation\n",
        "\n",
        "As a first step, please populate your CAS API token in the next cell:"
      ]
    },
    {
      "cell_type": "code",
      "execution_count": null,
      "metadata": {
        "id": "wJ1zcwQ_IYhY"
      },
      "outputs": [],
      "source": [
        "api_token = \"<your-cellarium-cas-api-key>\""
      ]
    },
    {
      "cell_type": "markdown",
      "metadata": {
        "id": "qXuTZmtOIYhY"
      },
      "source": [
        "You can now connect to the Cellarium CAS backend and authenticate the session with our API token:"
      ]
    },
    {
      "cell_type": "code",
      "execution_count": null,
      "metadata": {
        "id": "v81GSIGeIYhY"
      },
      "outputs": [],
      "source": [
        "from cellarium.cas.client import CASClient\n",
        "\n",
        "cas = CASClient(api_token=api_token)"
      ]
    },
    {
      "cell_type": "markdown",
      "metadata": {
        "id": "QkFXTz1EIYhY"
      },
      "source": [
        "The response will contain a list of annotation models and their brief descriptions. You need to choose the model that is suitable for your dataset. For this tutorial, we set `cas_model_name` to `None`, which implies choosing the default model. The default model is suitable for annotating human scRNA-seq datasets."
      ]
    },
    {
      "cell_type": "code",
      "execution_count": null,
      "metadata": {
        "id": "a1QlhdCPIYhY"
      },
      "outputs": [],
      "source": [
        "# Select the annotation model; 'None' for choosing the default model\n",
        "cas_model_name = None"
      ]
    },
    {
      "cell_type": "markdown",
      "metadata": {
        "id": "ETyKe09IIYhY"
      },
      "source": [
        "At this point, we are ready to submit our AnnData file to CAS for annotation.\n",
        "\n",
        ">**Note:** Before you proceed, you may need to modify the next cell as necessary for your dataset. CAS must be pointed to the appropriate columns in the ``.var`` DataFrame for fetching Gene Symbols and Ensembl Gene IDs. This is done by setting ``feature_names_column_name`` and ``feature_ids_column_name`` arguments accordingly. If either appears as the index of the ``.var`` DataFrame, use `index` as argument. Otherwise, use the appropriate column name.  "
      ]
    },
    {
      "cell_type": "code",
      "execution_count": null,
      "metadata": {
        "id": "cQp8hOPFIYhZ"
      },
      "outputs": [],
      "source": [
        "# Submit AnnData to CAS for ontology-aware cell type query\n",
        "cas_ontology_aware_response = cas.annotate_matrix_cell_type_ontology_aware_strategy(\n",
        "    matrix=adata,\n",
        "    chunk_size=500,\n",
        "    feature_ids_column_name='gene_ids',\n",
        "    feature_names_column_name='index',\n",
        "    cas_model_name=cas_model_name)"
      ]
    },
    {
      "cell_type": "markdown",
      "metadata": {
        "id": "DdITIq14IYhZ"
      },
      "source": [
        "Let us take a quick look at the anatomy of the CAS ontology-aware cell type query response. In brief, the response is a Python object of type CellTypeOntologyAwareResults with results that contain as many elements as the number of cells in the queried AnnData file:"
      ]
    },
    {
      "cell_type": "code",
      "execution_count": null,
      "metadata": {
        "id": "AkRXRcXQIYhZ"
      },
      "outputs": [],
      "source": [
        "type(cas_ontology_aware_response)"
      ]
    },
    {
      "cell_type": "code",
      "execution_count": null,
      "metadata": {
        "id": "I-PW8CjnIYhZ"
      },
      "outputs": [],
      "source": [
        "len(cas_ontology_aware_response.data)"
      ]
    },
    {
      "cell_type": "markdown",
      "metadata": {
        "id": "YqEvbpIvIYhZ"
      },
      "source": [
        "The list entry at position _i_ is a dictionary that contains a number of cell type ontology terms and their relevance scores for the _i_'th cell. Let us explore the output for one particular cell:"
      ]
    },
    {
      "cell_type": "code",
      "execution_count": null,
      "metadata": {
        "id": "RK5VKV3AIYhZ"
      },
      "outputs": [],
      "source": [
        "cell_index = 2425\n",
        "\n",
        "for matching_term in cas_ontology_aware_response.data[cell_index].matches:\n",
        "  print(matching_term)"
      ]
    },
    {
      "cell_type": "markdown",
      "metadata": {
        "id": "923iahWOFgYV"
      },
      "source": [
        "Let's sort the matching cell ontology terms by relevance scores:"
      ]
    },
    {
      "cell_type": "code",
      "execution_count": null,
      "metadata": {
        "id": "JdeZPflBFAXi"
      },
      "outputs": [],
      "source": [
        "import numpy as np\n",
        "\n",
        "sort_order = np.argsort([matching_term.score for matching_term in cas_ontology_aware_response.data[cell_index].matches])\n",
        "for idx in sort_order[::-1]:\n",
        "    print(cas_ontology_aware_response.data[cell_index].matches[idx])"
      ]
    },
    {
      "cell_type": "markdown",
      "metadata": {
        "id": "nGk_hoqpIYhZ"
      },
      "source": [
        "Based on the above response, we can confidently infer that cell number 2425 is a _natural killer cell_ and, with even greater confidence, a _hematopoietic cell_. Generally, there is an inherent trade-off between the specificity of a term and its relevance score. Higher-level terms (e.g., _mononuclear cell_ or _hematopoietic cell_) tend to have stronger association confidence, while lower-level terms (e.g., _group 1 innate lymphoid cell_) typically have weaker confidence levels."
      ]
    },
    {
      "cell_type": "markdown",
      "metadata": {
        "id": "GTR7U2qAIYhZ"
      },
      "source": [
        "### Exploring the Cellarium CAS response\n",
        "\n",
        "To streamline further exploration of the CAS response, we will _insert_ the response into the AnnData object using the following helper method:"
      ]
    },
    {
      "cell_type": "code",
      "execution_count": null,
      "metadata": {
        "id": "b3hWx8uiYukE"
      },
      "outputs": [],
      "source": [
        "from cellarium.cas.postprocessing import insert_cas_ontology_aware_response_into_adata\n",
        "\n",
        "# Insert the CAS ontology-aware cell type query response into the AnnData object\n",
        "insert_cas_ontology_aware_response_into_adata(cas_ontology_aware_response, adata)"
      ]
    },
    {
      "cell_type": "markdown",
      "metadata": {
        "id": "PdtKhVL2Z56i"
      },
      "source": [
        "This method will add the following keys to the AnnData object:\n",
        "\n",
        "- `cas_cl_scores` added to `adata.obsm`: a relevance score matrix of type `np.ndarray` and of shape (number of cells) x (number of cell ontology terms).\n",
        "- `cas_metadata` added to `adata.uns`: a dictionary containing names and labels of each cell ontology term.\n",
        "\n",
        "Let us briefly study the corresponding values:"
      ]
    },
    {
      "cell_type": "code",
      "execution_count": null,
      "metadata": {
        "id": "1wNbfkmNZ6WW"
      },
      "outputs": [],
      "source": [
        "adata"
      ]
    },
    {
      "cell_type": "code",
      "execution_count": null,
      "metadata": {
        "id": "3wFO82drZ_BJ"
      },
      "outputs": [],
      "source": [
        "# We expect a NumPy array with shape (4000, 2914), corresponding to 4000 cells and 2914 cell type ontology terms\n",
        "print(adata.obsm['cas_cl_scores'].shape)"
      ]
    },
    {
      "cell_type": "code",
      "execution_count": null,
      "metadata": {
        "id": "VifGO-_saRCV"
      },
      "outputs": [],
      "source": [
        "# We expect a dictionary with two keys, `cl_names` and `cl_labels`, corresponding to names and human-readable labels of each of the 2914 cell type ontology terms\n",
        "print(adata.uns['cas_metadata'].keys())"
      ]
    },
    {
      "cell_type": "code",
      "execution_count": null,
      "metadata": {
        "id": "k0yfmbb5aWPz"
      },
      "outputs": [],
      "source": [
        "print(f\"Number of cell ontology term names: {len(adata.uns['cas_metadata']['cl_names'])}\")\n",
        "print(\"The first 10 cell ontology term names:\")\n",
        "for cl_name in adata.uns['cas_metadata']['cl_names'][:10]:\n",
        "    print('- ' + cl_name)\n"
      ]
    },
    {
      "cell_type": "code",
      "execution_count": null,
      "metadata": {
        "id": "ZkK-V1_PbBqk"
      },
      "outputs": [],
      "source": [
        "print(f\"Number of cell ontology term labels: {len(adata.uns['cas_metadata']['cl_labels'])}\")\n",
        "print(\"The first 10 cell ontology term labels:\")\n",
        "for cl_label in adata.uns['cas_metadata']['cl_labels'][:10]:\n",
        "    print('- ' + cl_label)"
      ]
    },
    {
      "cell_type": "markdown",
      "metadata": {
        "id": "GtsXicqsY2H6"
      },
      "source": [
        "For a more streamlined and holistic visualization of the CAS response, we recommend using our provided ``CASCircularTreePlotUMAPDashApp`` Dash App.\n",
        "\n",
        ">**Note:** The app requires the CAS response to be already inserted into the AnnData file. If you have not run the previous cells, please make sure you do so!\n",
        "\n",
        ">**Tooltip:** The visualization displays various cell type ontology terms as colored circles in a circular dendrogram. The relationships underlying this dendrogram correspond to \"_is_a_\" relationships from [Cell Ontology](https://obofoundry.org/ontology/cl.html) (CL). Since these relationships are not mutually exclusive, a term can have multiple parent terms, meaning the same term can appear along different branches of the tree representation. The radius of each circle (whether it is a clade or a leaf node) signifies the occurrence of the term in the entire dataset, regardless of its relevance score. The color of the circle indicates the relevance score of the term in cells where it was found to have non-vanishing relevance.\n",
        ">\n",
        "> Here are some of the interactive capabilities of the visualization app:\n",
        "> - **Cell selection:** By default, all cells are selected, and the cell type ontology dendrogram shows an aggregated summary over all cells. You can restrict the aggregation to a subset of cells by selecting your desired subset over the UMAP scatter plot clicking a single cell or using the rectangular select or lasso select tool. The dendrogram will react to your custom cell selection. If your input AnnData file includes clustering, you can restrict score aggregation to each cluster by selecting your cluster in the Settings panel (accessible via the gear icon in the upper right of the app).\n",
        "> - **Highlighting ontology term relevance scores:** You can highlight cell type ontology term relevance scores over the UMAP scatter plot by clicking on the circles in the dendrogram. Only the selected cells will be scored, and the rest will be grayed out. You can revert to selecting all cells from the settings panel or by using the rectangular select tool to select all cells.\n",
        "> - **Studying the ontology term relevance scores for a single cell:** You can display the term relevance scores for individual cells by clicking on a single cell in the UMAP scatter plot.\n",
        "> - **Advanced settings:** By default, only terms above a specified relevance threshold with occurrence above another threshold over the selected cells are shown. You can modify these thresholds in the Settings panel (accessible via the gear icon in the upper right of the app).\n",
        ">\n",
        ">**Note**: The number of cells displayed should be limited to roughly 50K. Beyond that, performance of the Dash App may suffer.  If you need to visualize more cells, please attempt to downsample your cells."
      ]
    },
    {
      "cell_type": "code",
      "execution_count": null,
      "metadata": {
        "id": "7ibMxa7PIYhZ"
      },
      "outputs": [],
      "source": [
        "from cellarium.cas._io import suppress_stderr\n",
        "from cellarium.cas.visualization import CASCircularTreePlotUMAPDashApp\n",
        "\n",
        "DASH_SERVER_PORT = 8050\n",
        "\n",
        "with suppress_stderr():\n",
        "    CASCircularTreePlotUMAPDashApp(\n",
        "        adata=adata,  # the AnnData file\n",
        "        root_node=\"CL_0000255\",  # set to CL root node to \"eukaryotic cell\"\n",
        "        cluster_label_obs_column=\"cluster_label\",  # (optional) The .obs column name containing cluster labels\n",
        "    ).run(port=DASH_SERVER_PORT, debug=False, jupyter_width=\"100%\")"
      ]
    },
    {
      "cell_type": "markdown",
      "metadata": {
        "id": "634iLmUZIYhZ"
      },
      "source": [
        "### Best cell type label assignment\n",
        "\n",
        "Often times, we just want the best cell type labels and not a scored cell type ontology graph (!). Such a call _can_ be made, however, with the understanding that the notion of the best cell type call for any given cell is **not** a well-defined task in general. As mentioned earlier, crude ontology terms (e.g. T cell, B cell) often have higher relevance scores whereas more granular labels (e.g. CD8-positive, alpha-beta T cell, IgG-negative class switched memory B cell) often have lower relevance scores. If the _best call_ is construed as _the most confident call_, then such a call will be naturally too crude and uninformative. Therefore, the best cell type call must be understood as a decision made given the inherent trade-off between confidence and granularity.\n",
        "\n",
        "CAS provides a simple mechanism to enable navigating this trade-off. Our current notion of the best cell type call is one that that is furthest away from the root node (i.e. _cell_) while at the same time having a relevance score above a user-provided threshold. This definition allows us to sort the cell type ontology terms and report the top-_k_ calls for each cell.\n",
        "\n",
        "In the next cells, we obtain and visualize the top-3 cell type calls for each cell and each cluster."
      ]
    },
    {
      "cell_type": "code",
      "execution_count": null,
      "metadata": {
        "id": "rZxPDWP5IYha"
      },
      "outputs": [],
      "source": [
        "import cellarium.cas.postprocessing.ontology_aware as pp\n",
        "from cellarium.cas.postprocessing.cell_ontology import CellOntologyCache\n",
        "\n",
        "with suppress_stderr():\n",
        "    cl = CellOntologyCache()"
      ]
    },
    {
      "cell_type": "markdown",
      "metadata": {
        "id": "8StSYZ_ZcyIh"
      },
      "source": [
        ">**Note:** The following steps assume that the CAS response has already been inserted into the AnnData file. If you skipped any previous steps, please ensure you run the next cell:"
      ]
    },
    {
      "cell_type": "code",
      "execution_count": null,
      "metadata": {
        "id": "mcwmJkUac2c1"
      },
      "outputs": [],
      "source": [
        "from cellarium.cas.postprocessing import insert_cas_ontology_aware_response_into_adata\n",
        "\n",
        "# Insert the CAS ontology-aware cell type query response into the AnnData object for the visualization application\n",
        "insert_cas_ontology_aware_response_into_adata(cas_ontology_aware_response, adata)"
      ]
    },
    {
      "cell_type": "markdown",
      "metadata": {
        "id": "L2eZdWDJIYha"
      },
      "source": [
        "#### Assign cell type calls to individual cells"
      ]
    },
    {
      "cell_type": "code",
      "execution_count": null,
      "metadata": {
        "id": "SyTP-wFlIYha"
      },
      "outputs": [],
      "source": [
        "# Make the top-3 call for each cell and add the results to adata.obs\n",
        "pp.compute_most_granular_top_k_calls_single(\n",
        "    adata=adata,\n",
        "    cl=cl,\n",
        "    min_acceptable_score=0.2,  # minimum acceptable evidence score for a cell type call\n",
        "    top_k=3,  # how many top calls to make?\n",
        "    obs_prefix=\"cas_cell_type\"  # .obs column to write the top-k calls to\n",
        ")"
      ]
    },
    {
      "cell_type": "markdown",
      "metadata": {
        "id": "t6fN96IdYO9k"
      },
      "source": [
        ">**Note:** If you are running this tutorial on your own dataset, you may need to tune the parameter `min_acceptable_score` to obtain the optimal annotations for your dataset."
      ]
    },
    {
      "cell_type": "markdown",
      "metadata": {
        "id": "iesSGEIKdfhk"
      },
      "source": [
        ">**Note:** The calling the method `compute_most_granular_top_k_calls_single` adds the top-_k_ cell type ontology names and labels to the `adata.obs` for each cell. Let us inspect the resulting `adata.obs` DataFrame:\n",
        "\n"
      ]
    },
    {
      "cell_type": "code",
      "execution_count": null,
      "metadata": {
        "id": "5IE2RUmXIYhd"
      },
      "outputs": [],
      "source": [
        "adata.obs"
      ]
    },
    {
      "cell_type": "code",
      "execution_count": null,
      "metadata": {
        "id": "f3rwFMl8IYhd"
      },
      "outputs": [],
      "source": [
        "sc.pl.umap(adata, color='cas_cell_type_label_1')\n",
        "sc.pl.umap(adata, color='cas_cell_type_label_2')\n",
        "sc.pl.umap(adata, color='cas_cell_type_label_2')"
      ]
    },
    {
      "cell_type": "markdown",
      "metadata": {
        "id": "PUr7-rhOIYhd"
      },
      "source": [
        "#### Assign cell type calls to predefined cell clusters"
      ]
    },
    {
      "cell_type": "code",
      "execution_count": null,
      "metadata": {
        "id": "JDp4VUs5IYhd"
      },
      "outputs": [],
      "source": [
        "# Make the top-3 call for each cluster and add the results to adata.obs\n",
        "pp.compute_most_granular_top_k_calls_cluster(\n",
        "    adata=adata,\n",
        "    cl=cl,\n",
        "    min_acceptable_score=0.2,  # minimum acceptable evidence score for a cell type call\n",
        "    cluster_label_obs_column='cluster_label',  # .obs column containing cluster labels\n",
        "    top_k=3,  # how many top calls to make?\n",
        "    obs_prefix='cas_cell_type_cluster'  # .obs column to write the top-k calls to\n",
        ")"
      ]
    },
    {
      "cell_type": "markdown",
      "metadata": {
        "id": "Fin_DEsHYz1V"
      },
      "source": [
        ">**Note:** If you are running this tutorial on your own dataset, you may need to tune the parameter `min_acceptable_score` to obtain the optimal annotations for your dataset."
      ]
    },
    {
      "cell_type": "markdown",
      "metadata": {
        "id": "ud_g7E56dwH8"
      },
      "source": [
        ">**Note:** Calling the method `compute_most_granular_top_k_calls_cluster` adds the top-_k_ cell type ontology names and labels to `adata.obs` for each cell. These labels are derived by aggregating CAS relevance scores across user-defined cell clusters, assigning the same labels to all cells within the same cluster. Let us inspect the resulting `adata.obs` DataFrame:"
      ]
    },
    {
      "cell_type": "code",
      "execution_count": null,
      "metadata": {
        "id": "HOYGya6XIYhd"
      },
      "outputs": [],
      "source": [
        "adata.obs"
      ]
    },
    {
      "cell_type": "code",
      "execution_count": null,
      "metadata": {
        "id": "BfC9Ep7TIYhe"
      },
      "outputs": [],
      "source": [
        "sc.pl.umap(adata, color='cas_cell_type_cluster_label_1')\n",
        "sc.pl.umap(adata, color='cas_cell_type_cluster_label_2')\n",
        "sc.pl.umap(adata, color='cas_cell_type_cluster_label_3')"
      ]
    },
    {
      "cell_type": "code",
      "execution_count": null,
      "metadata": {
        "id": "leAu68sJmkHL"
      },
      "outputs": [],
      "source": []
    }
  ],
  "metadata": {
    "colab": {
      "provenance": []
    },
    "kernelspec": {
      "display_name": "Python 3 (ipykernel)",
      "language": "python",
      "name": "python3"
    },
    "language_info": {
      "codemirror_mode": {
        "name": "ipython",
        "version": 3
      },
      "file_extension": ".py",
      "mimetype": "text/x-python",
      "name": "python",
      "nbconvert_exporter": "python",
      "pygments_lexer": "ipython3",
      "version": "3.10.13"
    }
  },
  "nbformat": 4,
  "nbformat_minor": 0
}
